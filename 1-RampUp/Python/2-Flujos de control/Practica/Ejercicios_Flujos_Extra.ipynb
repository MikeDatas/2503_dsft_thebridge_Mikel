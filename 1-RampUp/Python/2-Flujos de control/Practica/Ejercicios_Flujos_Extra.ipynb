{
 "cells": [
  {
   "cell_type": "markdown",
   "metadata": {},
   "source": [
    "![imagen](./img/ejercicios.png)"
   ]
  },
  {
   "cell_type": "markdown",
   "metadata": {},
   "source": [
    "# Ejercicios Flujos de control"
   ]
  },
  {
   "cell_type": "markdown",
   "metadata": {},
   "source": [
    "## Ejercicio 1\n",
    "Programa una calculadora que\n",
    "\n",
    "* Pregunte qué operación quieres realizar (multiplicación/división/suma/resta/potencia/salir)\n",
    "* Pida dos números \n",
    "* Realice la operación\n",
    "* Siga funcionando hasta que el usuario elija salir\n",
    "\n",
    "#### Bonus:\n",
    "* Que guarde todas las operaciones realizadas y las imprima por pantalla cuando el usuario elija esa opción\n",
    "* Que no "
   ]
  },
  {
   "cell_type": "code",
   "execution_count": 15,
   "metadata": {},
   "outputs": [
    {
     "name": "stdout",
     "output_type": "stream",
     "text": [
      "El resultado de la resta es 8.0\n",
      "Has salido del programa\n"
     ]
    }
   ],
   "source": [
    "i=1\n",
    "while i>0:\n",
    "    operacion = input(\"¿Qué operación quieres realizar?\")\n",
    "    if operacion == \"salir\":\n",
    "        print(\"Has salido del programa\")\n",
    "        break\n",
    "        \n",
    "    else:\n",
    "        numero1 = float(input(\"Teclea un número\"))\n",
    "        numero2 = float(input(\"Teclea otro numero\"))\n",
    "\n",
    "        if operacion == \"multiplicación\":\n",
    "            resultado = numero1*numero2\n",
    "            #print(\"El resultado de la\", operacion, \"es\", resultado)\n",
    "        elif operacion == \"división\":\n",
    "            resultado = numero1/numero2\n",
    "            #print(\"El resultado de la\", operacion, \"es\", resultado)\n",
    "        elif operacion == \"suma\":\n",
    "            resultado = numero1 + numero2\n",
    "        elif operacion == \"resta\":\n",
    "            resultado = numero1 - numero2\n",
    "        elif operacion == \"potencia\":\n",
    "            resultado = numero1 **numero2\n",
    "        elif operacion == \"salir\":\n",
    "            break\n",
    "        print(\"El resultado de la\", operacion, \"es\", resultado)\n"
   ]
  },
  {
   "cell_type": "code",
   "execution_count": null,
   "metadata": {},
   "outputs": [],
   "source": []
  }
 ],
 "metadata": {
  "kernelspec": {
   "display_name": "Python 3",
   "language": "python",
   "name": "python3"
  },
  "language_info": {
   "codemirror_mode": {
    "name": "ipython",
    "version": 3
   },
   "file_extension": ".py",
   "mimetype": "text/x-python",
   "name": "python",
   "nbconvert_exporter": "python",
   "pygments_lexer": "ipython3",
   "version": "3.11.9"
  }
 },
 "nbformat": 4,
 "nbformat_minor": 4
}
